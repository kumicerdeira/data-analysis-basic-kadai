{
  "nbformat": 4,
  "nbformat_minor": 0,
  "metadata": {
    "colab": {
      "provenance": []
    },
    "kernelspec": {
      "name": "python3",
      "display_name": "Python 3"
    },
    "language_info": {
      "name": "python"
    }
  },
  "cells": [
    {
      "cell_type": "code",
      "execution_count": 4,
      "metadata": {
        "colab": {
          "base_uri": "https://localhost:8080/"
        },
        "id": "PmtoW3l7tgLk",
        "outputId": "67f86661-6b22-4fba-c1f5-e9dd1dd7bb21"
      },
      "outputs": [
        {
          "output_type": "execute_result",
          "data": {
            "text/plain": [
              "0.9629629629629629"
            ]
          },
          "metadata": {},
          "execution_count": 4
        }
      ],
      "source": [
        "# サンプルデータの取得\n",
        "from sklearn.datasets import load_wine\n",
        "dataset = load_wine()\n",
        "dataset\n",
        "\n",
        "# サンプルデータの分割\n",
        "x = dataset.data\n",
        "y = dataset.target\n",
        "\n",
        "from sklearn.model_selection import train_test_split\n",
        "train_test_split(x, y, test_size=0.3, random_state=5)\n",
        "\n",
        "x_train, x_test, y_train, y_test=train_test_split(x, y, test_size=0.3, random_state=5)\n",
        "\n",
        "\n",
        "# 予測モデルのインスタンス化\n",
        "from sklearn.ensemble import RandomForestClassifier\n",
        "model = RandomForestClassifier(random_state=3)\n",
        "\n",
        "# 予測モデルの学習\n",
        "model.fit(x_train, y_train)\n",
        "\n",
        "# 予測モデルの評価\n",
        "y_pred = model.predict(x_test)\n",
        "y_pred\n",
        "\n",
        "y_test\n",
        "\n",
        "from sklearn.metrics import accuracy_score\n",
        "accuracy_score(y_test, y_pred)\n",
        "\n"
      ]
    }
  ]
}