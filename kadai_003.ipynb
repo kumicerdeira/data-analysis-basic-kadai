{
  "cells": [
    {
      "cell_type": "code",
      "execution_count": 10,
      "metadata": {
        "colab": {
          "base_uri": "https://localhost:8080/"
        },
        "id": "fpRMaIj-cUmI",
        "outputId": "b6e1d226-c160-4b7e-82cb-dc844dcf6863"
      },
      "outputs": [
        {
          "name": "stdout",
          "output_type": "stream",
          "text": [
            "[[ 4  5  6  7]\n",
            " [12 17 22 27]\n",
            " [20 29 38 47]]\n"
          ]
        },
        {
          "data": {
            "text/plain": [
              "7"
            ]
          },
          "execution_count": 10,
          "metadata": {},
          "output_type": "execute_result"
        }
      ],
      "source": [
        "# NumPyをインポート\n",
        "import numpy as np\n",
        "\n",
        " # 多次元配列の作成\n",
        "multi_array = np.array([[0, 1], [2, 3], [4, 5]])\n",
        "multi_array = np.array([[0, 1, 2, 3], [4, 5, 6, 7]])\n",
        "multi_array\n",
        "\n",
        "# 行列の積の計算\n",
        "A = np.array([[0, 1], [2, 3], [4, 5]])\n",
        "B = np.array([[0, 1, 2, 3], [4, 5, 6, 7]])\n",
        "answer = np.dot(A, B)\n",
        "print(answer)\n",
        "\n",
        "# 行列の最大値を求める\n",
        "multi_array.max()\n"
      ]
    }
  ],
  "metadata": {
    "colab": {
      "provenance": []
    },
    "kernelspec": {
      "display_name": "Python 3",
      "name": "python3"
    },
    "language_info": {
      "name": "python"
    }
  },
  "nbformat": 4,
  "nbformat_minor": 0
}
